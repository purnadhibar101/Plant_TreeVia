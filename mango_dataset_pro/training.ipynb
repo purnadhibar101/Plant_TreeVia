{
 "cells": [
  {
   "cell_type": "code",
   "execution_count": 1,
   "id": "11a50fa9-cd76-49dc-ba07-383e47c5576f",
   "metadata": {},
   "outputs": [],
   "source": [
    "import os\n",
    "import time\n",
    "import shutil\n",
    "import pathlib\n",
    "import itertools"
   ]
  },
  {
   "cell_type": "code",
   "execution_count": 4,
   "id": "e8282013-312f-4c0e-8342-1fff31281d72",
   "metadata": {},
   "outputs": [],
   "source": [
    "import numpy as np\n",
    "import pandas as pd\n",
    "import matplotlib.pyplot as plt\n",
    "from sklearn.model_selection import train_test_split\n",
    "from sklearn.metrics import confusion_matrix, classification_report"
   ]
  },
  {
   "cell_type": "code",
   "execution_count": 7,
   "id": "6ec4f910-67e0-437e-ab25-aac2c86e3c77",
   "metadata": {},
   "outputs": [],
   "source": [
    "import tensorflow as tf\n",
    "import os\n",
    "from tensorflow import keras\n",
    "from tensorflow.keras.models import Sequential\n",
    "from tensorflow.keras.optimizers import Adam, Adamax\n",
    "from tensorflow.keras.metrics import categorical_crossentropy\n",
    "from tensorflow.keras.layers import Conv2D, MaxPooling2D, Flatten, Dense, Activation, Dropout, BatchNormalization\n",
    "from tensorflow.keras import regularizers"
   ]
  },
  {
   "cell_type": "code",
   "execution_count": 8,
   "id": "0691cd5b-0feb-44f2-a940-eaf1a8bb5e52",
   "metadata": {},
   "outputs": [],
   "source": [
    "import splitfolders\n",
    "\n",
    "splitfolders.ratio(\"mango_dataset_pro\", output=\"output_dataset\", seed=1337, ratio=(0.7, 0.15, 0.15)) \n"
   ]
  },
  {
   "cell_type": "code",
   "execution_count": 9,
   "id": "eaad7610-9dcd-4582-8882-99fa33140445",
   "metadata": {},
   "outputs": [],
   "source": [
    "# Define ImageDataGenerator with Rescaling\n",
    "from tensorflow.keras.preprocessing.image import ImageDataGenerator\n",
    "\n",
    "train_datagen = ImageDataGenerator(rescale=1./255)\n",
    "val_datagen = ImageDataGenerator(rescale=1./255)\n",
    "test_datagen = ImageDataGenerator(rescale=1./255)\n"
   ]
  },
  {
   "cell_type": "code",
   "execution_count": 11,
   "id": "daac4ff3-0c4e-4f20-a409-c6b757960c39",
   "metadata": {},
   "outputs": [
    {
     "name": "stdout",
     "output_type": "stream",
     "text": [
      "Found 2800 images belonging to 8 classes.\n"
     ]
    }
   ],
   "source": [
    "# Load train dataset\n",
    "train_generator = train_datagen.flow_from_directory(\n",
    "    \"output_dataset/train\",\n",
    "    target_size=(128, 128), \n",
    "    batch_size=32,\n",
    "    class_mode=\"categorical\"  \n",
    ")"
   ]
  },
  {
   "cell_type": "code",
   "execution_count": 13,
   "id": "d868b53d-f368-46a8-9a19-78fea3436cbe",
   "metadata": {},
   "outputs": [
    {
     "name": "stdout",
     "output_type": "stream",
     "text": [
      "Found 606 images belonging to 8 classes.\n"
     ]
    }
   ],
   "source": [
    "# Load test dataset\n",
    "test_generator = test_datagen.flow_from_directory(\n",
    "    \"output_dataset/test\",\n",
    "    target_size=(128, 128), \n",
    "    batch_size=32,\n",
    "    class_mode=\"categorical\"  \n",
    ")"
   ]
  },
  {
   "cell_type": "code",
   "execution_count": 14,
   "id": "1165b023-790d-4341-a604-c98b81a2fb68",
   "metadata": {},
   "outputs": [
    {
     "name": "stdout",
     "output_type": "stream",
     "text": [
      "Found 600 images belonging to 8 classes.\n"
     ]
    }
   ],
   "source": [
    "# Load validation dataset\n",
    "val_generator = val_datagen.flow_from_directory(\n",
    "    \"output_dataset/val\",\n",
    "    target_size=(128, 128),\n",
    "    batch_size=32,\n",
    "    class_mode=\"categorical\"\n",
    ")"
   ]
  },
  {
   "cell_type": "code",
   "execution_count": 15,
   "id": "cf53f4e4-9929-476d-8060-7768778fb7b7",
   "metadata": {},
   "outputs": [],
   "source": [
    "# Define CNN Model\n",
    "from tensorflow import keras\n",
    "from tensorflow.keras import layers\n",
    "model = keras.Sequential([\n",
    "    layers.Conv2D(32, (3, 3), activation='relu', input_shape=(128, 128, 3)),\n",
    "    layers.MaxPooling2D(2, 2),\n",
    "    \n",
    "    layers.Conv2D(64, (3, 3), activation='relu'),\n",
    "    layers.MaxPooling2D(2, 2),\n",
    "    \n",
    "    layers.Conv2D(128, (3, 3), activation='relu'),\n",
    "    layers.MaxPooling2D(2, 2),\n",
    "    \n",
    "    layers.Flatten(),\n",
    "    layers.Dense(128, activation='relu'),\n",
    "    layers.Dropout(0.5),  \n",
    "    layers.Dense(train_generator.num_classes, activation='softmax') \n",
    "])\n"
   ]
  },
  {
   "cell_type": "code",
   "execution_count": 16,
   "id": "c554a09c-7b34-4ad5-be75-81f47829d7a9",
   "metadata": {},
   "outputs": [],
   "source": [
    "model.compile(optimizer='adam', loss='categorical_crossentropy', metrics=['accuracy'])"
   ]
  },
  {
   "cell_type": "code",
   "execution_count": 17,
   "id": "cf3fd21a-f810-49d6-a605-a600869b34ac",
   "metadata": {},
   "outputs": [
    {
     "name": "stdout",
     "output_type": "stream",
     "text": [
      "Model: \"sequential\"\n",
      "_________________________________________________________________\n",
      " Layer (type)                Output Shape              Param #   \n",
      "=================================================================\n",
      " conv2d (Conv2D)             (None, 126, 126, 32)      896       \n",
      "                                                                 \n",
      " max_pooling2d (MaxPooling2  (None, 63, 63, 32)        0         \n",
      " D)                                                              \n",
      "                                                                 \n",
      " conv2d_1 (Conv2D)           (None, 61, 61, 64)        18496     \n",
      "                                                                 \n",
      " max_pooling2d_1 (MaxPoolin  (None, 30, 30, 64)        0         \n",
      " g2D)                                                            \n",
      "                                                                 \n",
      " conv2d_2 (Conv2D)           (None, 28, 28, 128)       73856     \n",
      "                                                                 \n",
      " max_pooling2d_2 (MaxPoolin  (None, 14, 14, 128)       0         \n",
      " g2D)                                                            \n",
      "                                                                 \n",
      " flatten (Flatten)           (None, 25088)             0         \n",
      "                                                                 \n",
      " dense (Dense)               (None, 128)               3211392   \n",
      "                                                                 \n",
      " dropout (Dropout)           (None, 128)               0         \n",
      "                                                                 \n",
      " dense_1 (Dense)             (None, 8)                 1032      \n",
      "                                                                 \n",
      "=================================================================\n",
      "Total params: 3305672 (12.61 MB)\n",
      "Trainable params: 3305672 (12.61 MB)\n",
      "Non-trainable params: 0 (0.00 Byte)\n",
      "_________________________________________________________________\n"
     ]
    }
   ],
   "source": [
    "model.summary()"
   ]
  },
  {
   "cell_type": "code",
   "execution_count": 19,
   "id": "ee6635c4-bcf9-45f4-b027-0f1aa5e89942",
   "metadata": {},
   "outputs": [
    {
     "name": "stdout",
     "output_type": "stream",
     "text": [
      "Epoch 1/70\n",
      "88/88 [==============================] - 46s 527ms/step - loss: 1.3400 - accuracy: 0.4875 - val_loss: 0.9262 - val_accuracy: 0.6700\n",
      "Epoch 2/70\n",
      "88/88 [==============================] - 29s 329ms/step - loss: 0.7760 - accuracy: 0.7150 - val_loss: 0.5205 - val_accuracy: 0.8083\n",
      "Epoch 3/70\n",
      "88/88 [==============================] - 29s 335ms/step - loss: 0.5798 - accuracy: 0.7939 - val_loss: 0.4723 - val_accuracy: 0.7833\n",
      "Epoch 4/70\n",
      "88/88 [==============================] - 38s 430ms/step - loss: 0.4985 - accuracy: 0.8271 - val_loss: 0.3338 - val_accuracy: 0.8700\n",
      "Epoch 5/70\n",
      "88/88 [==============================] - 33s 374ms/step - loss: 0.3082 - accuracy: 0.8929 - val_loss: 0.2255 - val_accuracy: 0.9100\n",
      "Epoch 6/70\n",
      "88/88 [==============================] - 31s 352ms/step - loss: 0.2468 - accuracy: 0.9225 - val_loss: 0.2149 - val_accuracy: 0.9267\n",
      "Epoch 7/70\n",
      "88/88 [==============================] - 31s 352ms/step - loss: 0.2487 - accuracy: 0.9161 - val_loss: 0.2088 - val_accuracy: 0.9200\n",
      "Epoch 8/70\n",
      "88/88 [==============================] - 30s 341ms/step - loss: 0.2010 - accuracy: 0.9350 - val_loss: 0.1816 - val_accuracy: 0.9317\n",
      "Epoch 9/70\n",
      "88/88 [==============================] - 37s 416ms/step - loss: 0.1489 - accuracy: 0.9504 - val_loss: 0.1362 - val_accuracy: 0.9450\n",
      "Epoch 10/70\n",
      "88/88 [==============================] - 31s 349ms/step - loss: 0.1532 - accuracy: 0.9443 - val_loss: 0.1486 - val_accuracy: 0.9500\n",
      "Epoch 11/70\n",
      "88/88 [==============================] - 30s 339ms/step - loss: 0.1245 - accuracy: 0.9554 - val_loss: 0.1534 - val_accuracy: 0.9517\n",
      "Epoch 12/70\n",
      "88/88 [==============================] - 34s 391ms/step - loss: 0.1060 - accuracy: 0.9679 - val_loss: 0.1226 - val_accuracy: 0.9600\n",
      "Epoch 13/70\n",
      "88/88 [==============================] - 34s 386ms/step - loss: 0.0891 - accuracy: 0.9696 - val_loss: 0.1580 - val_accuracy: 0.9583\n",
      "Epoch 14/70\n",
      "88/88 [==============================] - 34s 390ms/step - loss: 0.0719 - accuracy: 0.9757 - val_loss: 0.1032 - val_accuracy: 0.9633\n",
      "Epoch 15/70\n",
      "88/88 [==============================] - 34s 384ms/step - loss: 0.0645 - accuracy: 0.9814 - val_loss: 0.1394 - val_accuracy: 0.9533\n",
      "Epoch 16/70\n",
      "88/88 [==============================] - 32s 358ms/step - loss: 0.0742 - accuracy: 0.9711 - val_loss: 0.1585 - val_accuracy: 0.9533\n",
      "Epoch 17/70\n",
      "88/88 [==============================] - 30s 346ms/step - loss: 0.0944 - accuracy: 0.9671 - val_loss: 0.1910 - val_accuracy: 0.9400\n",
      "Epoch 18/70\n",
      "88/88 [==============================] - 30s 340ms/step - loss: 0.1767 - accuracy: 0.9429 - val_loss: 0.1290 - val_accuracy: 0.9567\n",
      "Epoch 19/70\n",
      "88/88 [==============================] - 29s 332ms/step - loss: 0.0835 - accuracy: 0.9725 - val_loss: 0.3023 - val_accuracy: 0.9183\n",
      "Epoch 20/70\n",
      "88/88 [==============================] - 31s 348ms/step - loss: 0.0829 - accuracy: 0.9714 - val_loss: 0.2712 - val_accuracy: 0.9217\n",
      "Epoch 21/70\n",
      "88/88 [==============================] - 30s 340ms/step - loss: 0.0577 - accuracy: 0.9811 - val_loss: 0.1361 - val_accuracy: 0.9617\n",
      "Epoch 22/70\n",
      "88/88 [==============================] - 29s 327ms/step - loss: 0.0377 - accuracy: 0.9882 - val_loss: 0.1236 - val_accuracy: 0.9667\n",
      "Epoch 23/70\n",
      "88/88 [==============================] - 29s 329ms/step - loss: 0.0653 - accuracy: 0.9789 - val_loss: 0.1708 - val_accuracy: 0.9450\n",
      "Epoch 24/70\n",
      "88/88 [==============================] - 29s 331ms/step - loss: 0.0841 - accuracy: 0.9743 - val_loss: 0.1525 - val_accuracy: 0.9567\n",
      "Epoch 25/70\n",
      "88/88 [==============================] - 29s 328ms/step - loss: 0.0727 - accuracy: 0.9768 - val_loss: 0.2053 - val_accuracy: 0.9267\n",
      "Epoch 26/70\n",
      "88/88 [==============================] - 30s 337ms/step - loss: 0.0530 - accuracy: 0.9839 - val_loss: 0.1811 - val_accuracy: 0.9567\n",
      "Epoch 27/70\n",
      "88/88 [==============================] - 34s 392ms/step - loss: 0.0307 - accuracy: 0.9904 - val_loss: 0.2002 - val_accuracy: 0.9550\n",
      "Epoch 28/70\n",
      "88/88 [==============================] - 35s 392ms/step - loss: 0.0748 - accuracy: 0.9729 - val_loss: 0.2009 - val_accuracy: 0.9550\n",
      "Epoch 29/70\n",
      "88/88 [==============================] - 40s 450ms/step - loss: 0.0659 - accuracy: 0.9775 - val_loss: 0.1905 - val_accuracy: 0.9567\n",
      "Epoch 30/70\n",
      "88/88 [==============================] - 35s 395ms/step - loss: 0.0615 - accuracy: 0.9804 - val_loss: 0.4634 - val_accuracy: 0.8950\n",
      "Epoch 31/70\n",
      "88/88 [==============================] - 35s 394ms/step - loss: 0.0505 - accuracy: 0.9811 - val_loss: 0.2041 - val_accuracy: 0.9467\n",
      "Epoch 32/70\n",
      "88/88 [==============================] - 36s 405ms/step - loss: 0.0293 - accuracy: 0.9893 - val_loss: 0.2537 - val_accuracy: 0.9467\n",
      "Epoch 33/70\n",
      "88/88 [==============================] - 33s 380ms/step - loss: 0.0459 - accuracy: 0.9886 - val_loss: 0.1801 - val_accuracy: 0.9550\n",
      "Epoch 34/70\n",
      "88/88 [==============================] - 35s 392ms/step - loss: 0.0501 - accuracy: 0.9850 - val_loss: 0.2444 - val_accuracy: 0.9367\n",
      "Epoch 35/70\n",
      "88/88 [==============================] - 34s 391ms/step - loss: 0.0461 - accuracy: 0.9846 - val_loss: 0.1933 - val_accuracy: 0.9550\n",
      "Epoch 36/70\n",
      "88/88 [==============================] - 33s 378ms/step - loss: 0.0352 - accuracy: 0.9882 - val_loss: 0.2328 - val_accuracy: 0.9433\n",
      "Epoch 37/70\n",
      "88/88 [==============================] - 33s 378ms/step - loss: 0.0828 - accuracy: 0.9750 - val_loss: 0.2353 - val_accuracy: 0.9500\n",
      "Epoch 38/70\n",
      "88/88 [==============================] - 34s 383ms/step - loss: 0.0440 - accuracy: 0.9875 - val_loss: 0.3478 - val_accuracy: 0.9317\n",
      "Epoch 39/70\n",
      "88/88 [==============================] - 34s 380ms/step - loss: 0.0241 - accuracy: 0.9929 - val_loss: 0.2007 - val_accuracy: 0.9600\n",
      "Epoch 40/70\n",
      "88/88 [==============================] - 33s 379ms/step - loss: 0.0353 - accuracy: 0.9889 - val_loss: 0.3866 - val_accuracy: 0.9133\n",
      "Epoch 41/70\n",
      "88/88 [==============================] - 33s 378ms/step - loss: 0.0742 - accuracy: 0.9836 - val_loss: 0.2084 - val_accuracy: 0.9633\n",
      "Epoch 42/70\n",
      "88/88 [==============================] - 33s 378ms/step - loss: 0.0405 - accuracy: 0.9879 - val_loss: 0.2424 - val_accuracy: 0.9467\n",
      "Epoch 43/70\n",
      "88/88 [==============================] - 33s 378ms/step - loss: 0.0231 - accuracy: 0.9929 - val_loss: 0.1945 - val_accuracy: 0.9617\n",
      "Epoch 44/70\n",
      "88/88 [==============================] - 33s 378ms/step - loss: 0.0129 - accuracy: 0.9964 - val_loss: 0.2010 - val_accuracy: 0.9650\n",
      "Epoch 45/70\n",
      "88/88 [==============================] - 33s 379ms/step - loss: 0.0306 - accuracy: 0.9921 - val_loss: 0.1496 - val_accuracy: 0.9667\n",
      "Epoch 46/70\n",
      "88/88 [==============================] - 33s 379ms/step - loss: 0.0277 - accuracy: 0.9918 - val_loss: 0.1586 - val_accuracy: 0.9633\n",
      "Epoch 47/70\n",
      "88/88 [==============================] - 39s 438ms/step - loss: 0.0206 - accuracy: 0.9943 - val_loss: 0.2190 - val_accuracy: 0.9600\n",
      "Epoch 48/70\n",
      "88/88 [==============================] - 34s 391ms/step - loss: 0.0189 - accuracy: 0.9936 - val_loss: 0.2382 - val_accuracy: 0.9617\n",
      "Epoch 49/70\n",
      "88/88 [==============================] - 34s 386ms/step - loss: 0.0306 - accuracy: 0.9893 - val_loss: 0.2140 - val_accuracy: 0.9583\n",
      "Epoch 50/70\n",
      "88/88 [==============================] - 34s 389ms/step - loss: 0.0197 - accuracy: 0.9936 - val_loss: 0.4862 - val_accuracy: 0.9000\n",
      "Epoch 51/70\n",
      "88/88 [==============================] - 34s 383ms/step - loss: 0.1069 - accuracy: 0.9682 - val_loss: 0.2022 - val_accuracy: 0.9533\n",
      "Epoch 52/70\n",
      "88/88 [==============================] - 34s 387ms/step - loss: 0.0200 - accuracy: 0.9943 - val_loss: 0.2912 - val_accuracy: 0.9400\n",
      "Epoch 53/70\n",
      "88/88 [==============================] - 34s 383ms/step - loss: 0.0215 - accuracy: 0.9925 - val_loss: 0.2588 - val_accuracy: 0.9533\n",
      "Epoch 54/70\n",
      "88/88 [==============================] - 32s 367ms/step - loss: 0.0683 - accuracy: 0.9818 - val_loss: 0.2911 - val_accuracy: 0.9383\n",
      "Epoch 55/70\n",
      "88/88 [==============================] - 28s 319ms/step - loss: 0.0162 - accuracy: 0.9957 - val_loss: 0.3220 - val_accuracy: 0.9483\n",
      "Epoch 56/70\n",
      "88/88 [==============================] - 30s 343ms/step - loss: 0.0459 - accuracy: 0.9839 - val_loss: 0.3645 - val_accuracy: 0.9300\n",
      "Epoch 57/70\n",
      "88/88 [==============================] - 28s 321ms/step - loss: 0.0906 - accuracy: 0.9764 - val_loss: 0.2706 - val_accuracy: 0.9467\n",
      "Epoch 58/70\n",
      "88/88 [==============================] - 30s 343ms/step - loss: 0.0467 - accuracy: 0.9861 - val_loss: 0.2261 - val_accuracy: 0.9500\n",
      "Epoch 59/70\n",
      "88/88 [==============================] - 30s 342ms/step - loss: 0.0248 - accuracy: 0.9911 - val_loss: 0.2711 - val_accuracy: 0.9533\n",
      "Epoch 60/70\n",
      "88/88 [==============================] - 31s 351ms/step - loss: 0.0313 - accuracy: 0.9911 - val_loss: 0.2210 - val_accuracy: 0.9683\n",
      "Epoch 61/70\n",
      "88/88 [==============================] - 30s 339ms/step - loss: 0.0148 - accuracy: 0.9957 - val_loss: 0.3100 - val_accuracy: 0.9517\n",
      "Epoch 62/70\n",
      "88/88 [==============================] - 31s 354ms/step - loss: 0.0296 - accuracy: 0.9904 - val_loss: 0.8594 - val_accuracy: 0.8983\n",
      "Epoch 63/70\n",
      "88/88 [==============================] - 31s 355ms/step - loss: 0.0524 - accuracy: 0.9850 - val_loss: 0.2395 - val_accuracy: 0.9567\n",
      "Epoch 64/70\n",
      "88/88 [==============================] - 32s 364ms/step - loss: 0.0219 - accuracy: 0.9914 - val_loss: 0.2400 - val_accuracy: 0.9617\n",
      "Epoch 65/70\n",
      "88/88 [==============================] - 32s 361ms/step - loss: 0.0113 - accuracy: 0.9950 - val_loss: 0.1879 - val_accuracy: 0.9683\n",
      "Epoch 66/70\n",
      "88/88 [==============================] - 34s 386ms/step - loss: 0.0070 - accuracy: 0.9979 - val_loss: 0.2129 - val_accuracy: 0.9650\n",
      "Epoch 67/70\n",
      "88/88 [==============================] - 30s 344ms/step - loss: 0.0136 - accuracy: 0.9943 - val_loss: 0.2629 - val_accuracy: 0.9633\n",
      "Epoch 68/70\n",
      "88/88 [==============================] - 31s 351ms/step - loss: 0.0543 - accuracy: 0.9857 - val_loss: 0.3486 - val_accuracy: 0.9333\n",
      "Epoch 69/70\n",
      "88/88 [==============================] - 32s 369ms/step - loss: 0.0317 - accuracy: 0.9911 - val_loss: 0.2168 - val_accuracy: 0.9467\n",
      "Epoch 70/70\n",
      "88/88 [==============================] - 30s 344ms/step - loss: 0.0093 - accuracy: 0.9961 - val_loss: 0.2642 - val_accuracy: 0.9600\n"
     ]
    }
   ],
   "source": [
    "# Train model\n",
    "history = model.fit(\n",
    "    train_generator,\n",
    "    validation_data=val_generator,\n",
    "    epochs=70,  \n",
    "    steps_per_epoch=len(train_generator),\n",
    "    validation_steps=len(val_generator)\n",
    ")"
   ]
  },
  {
   "cell_type": "code",
   "execution_count": 20,
   "id": "3f4b6f40-4bc8-4fd0-b6fe-6aefb492d7db",
   "metadata": {},
   "outputs": [],
   "source": [
    "# Extract accuracy and loss from history\n",
    "acc = history.history['accuracy']\n",
    "val_acc = history.history['val_accuracy']\n",
    "loss = history.history['loss']\n",
    "val_loss = history.history['val_loss']"
   ]
  },
  {
   "cell_type": "code",
   "execution_count": 21,
   "id": "e99f6fb2-6762-4f9c-becb-2276e2d62805",
   "metadata": {},
   "outputs": [],
   "source": [
    "epochs_range = range(len(acc))"
   ]
  },
  {
   "cell_type": "code",
   "execution_count": 22,
   "id": "ea0c2f17-389a-48f0-bf02-ea040f69fa33",
   "metadata": {},
   "outputs": [
    {
     "data": {
      "text/plain": [
       "range(0, 70)"
      ]
     },
     "execution_count": 22,
     "metadata": {},
     "output_type": "execute_result"
    }
   ],
   "source": [
    "epochs_range"
   ]
  },
  {
   "cell_type": "code",
   "execution_count": 23,
   "id": "433ea5d8-a1fc-423f-854c-093ab95ed6ff",
   "metadata": {},
   "outputs": [
    {
     "data": {
      "text/plain": [
       "Text(0.5, 1.0, 'Training and Validation Accuracy')"
      ]
     },
     "execution_count": 23,
     "metadata": {},
     "output_type": "execute_result"
    },
    {
     "data": {
      "image/png": "[encoded data removed]",
      "text/plain": [
       "<Figure size 1000x500 with 1 Axes>"
      ]
     },
     "metadata": {},
     "output_type": "display_data"
    }
   ],
   "source": [
    "# Plot accuracy\n",
    "plt.figure(figsize=(10, 5))\n",
    "plt.subplot(1, 2, 1)\n",
    "plt.plot(epochs_range, acc, label='Training Accuracy')\n",
    "plt.plot(epochs_range, val_acc, label='Validation Accuracy')\n",
    "plt.legend(loc='lower right')\n",
    "plt.title('Training and Validation Accuracy')"
   ]
  },
  {
   "cell_type": "code",
   "execution_count": 24,
   "id": "62f57285-d16d-4da1-9657-e078c07ace53",
   "metadata": {},
   "outputs": [
    {
     "data": {
      "text/plain": [
       "Text(0.5, 1.0, 'Training and Validation Loss')"
      ]
     },
     "execution_count": 24,
     "metadata": {},
     "output_type": "execute_result"
    },
    {
     "data": {
      "image/png": "[encoded data removed]",
      "text/plain": [
       "<Figure size 640x480 with 1 Axes>"
      ]
     },
     "metadata": {},
     "output_type": "display_data"
    }
   ],
   "source": [
    "# Plot loss\n",
    "plt.subplot(1, 2, 2)\n",
    "plt.plot(epochs_range, loss, label='Training Loss')\n",
    "plt.plot(epochs_range, val_loss, label='Validation Loss')\n",
    "plt.legend(loc='upper right')\n",
    "plt.title('Training and Validation Loss')"
   ]
  },
  {
   "cell_type": "code",
   "execution_count": 25,
   "id": "d1c4ebfe-cdd4-4b52-b569-5e37c888f969",
   "metadata": {},
   "outputs": [],
   "source": [
    "plt.show()"
   ]
  },
  {
   "cell_type": "code",
   "execution_count": 26,
   "id": "31d33d0f-3c67-4759-9f0d-472195670a24",
   "metadata": {},
   "outputs": [
    {
     "name": "stdout",
     "output_type": "stream",
     "text": [
      "19/19 [==============================] - 5s 253ms/step - loss: 0.2201 - accuracy: 0.9571\n",
      "Test Accuracy: 0.96\n"
     ]
    }
   ],
   "source": [
    "# Evaluate model on test data\n",
    "test_loss, test_acc = model.evaluate(test_generator)\n",
    "print(f\"Test Accuracy: {test_acc:.2f}\")"
   ]
  },
  {
   "cell_type": "code",
   "execution_count": 27,
   "id": "49e377b0-218c-4ade-842f-43685051124b",
   "metadata": {},
   "outputs": [
    {
     "name": "stdout",
     "output_type": "stream",
     "text": [
      "1/1 [==============================] - 0s 213ms/step\n",
      "Predicted index: 7\n",
      "Predicted Class: Sooty Mould\n"
     ]
    }
   ],
   "source": [
    "from tensorflow.keras.preprocessing import image\n",
    "# Load an image\n",
    "img_path = \"image_ml/images8.jpg\"\n",
    "img = image.load_img(img_path, target_size=(128, 128))\n",
    "img_array = image.img_to_array(img) / 255.0\n",
    "img_array = np.expand_dims(img_array, axis=0)\n",
    "\n",
    "# Predict class\n",
    "predictions = model.predict(img_array)\n",
    "predicted_index = np.argmax(predictions)\n",
    "print(f\"Predicted index: {predicted_index}\")\n",
    "\n",
    "class_labels = {v: k for k, v in train_generator.class_indices.items()}  # Reverse mapping\n",
    "predicted_class_name = class_labels[predicted_index]\n",
    "\n",
    "print(f\"Predicted Class: {predicted_class_name}\")  # Print actual class name\n",
    "\n"
   ]
  },
  {
   "cell_type": "code",
   "execution_count": 30,
   "id": "42e3a290-b86b-4a23-82f8-cc3f566a25ad",
   "metadata": {},
   "outputs": [],
   "source": [
    "model.save(\"model.h5\")"
   ]
  },
  {
   "cell_type": "code",
   "execution_count": null,
   "id": "8a7fae70-59b9-4567-afd4-0451c22bfe9d",
   "metadata": {},
   "outputs": [],
   "source": []
  }
 ],
 "metadata": {
  "kernelspec": {
   "display_name": "Python 3 (ipykernel)",
   "language": "python",
   "name": "python3"
  },
  "language_info": {
   "codemirror_mode": {
    "name": "ipython",
    "version": 3
   },
   "file_extension": ".py",
   "mimetype": "text/x-python",
   "name": "python",
   "nbconvert_exporter": "python",
   "pygments_lexer": "ipython3",
   "version": "3.8.10"
  }
 },
 "nbformat": 4,
 "nbformat_minor": 5
}
